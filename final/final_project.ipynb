{
 "cells": [
  {
   "cell_type": "markdown",
   "metadata": {},
   "source": [
    "# Programmed Escape Route for Maze\n",
    "\n",
    "**Instructions**\n",
    "1) Place Robot at start of maze\n",
    "\n",
    "2) Run first two blocks to import libraries and initialize an instance of easygopigo3\n",
    "\n",
    "3) Run the last block to let gopigo3 execute route**"
   ]
  },
  {
   "cell_type": "code",
   "execution_count": 1,
   "metadata": {},
   "outputs": [],
   "source": [
    "import time\n",
    "import easygopigo3 as easy"
   ]
  },
  {
   "cell_type": "code",
   "execution_count": 2,
   "metadata": {},
   "outputs": [],
   "source": [
    "gpg = easy.EasyGoPiGo3()"
   ]
  },
  {
   "cell_type": "code",
   "execution_count": 26,
   "metadata": {},
   "outputs": [],
   "source": [
    "gpg.drive_inches(2.5)\n",
    "gpg.turn_degrees(90)\n",
    "gpg.drive_inches(35)\n",
    "gpg.turn_degrees(-90)\n",
    "gpg.drive_inches(20)\n",
    "gpg.turn_degrees(-80)\n",
    "gpg.drive_inches(30)\n",
    "gpg.turn_degrees(90)\n",
    "gpg.drive_inches(12)\n",
    "gpg.turn_degrees(90)\n",
    "gpg.drive_inches(48)\n",
    "gpg.turn_degrees(-90)\n",
    "gpg.drive_inches(20)\n",
    "gpg.turn_degrees(-85)\n",
    "gpg.drive_inches(98)\n",
    "gpg.turn_degrees(100)\n",
    "gpg.drive_inches(38)\n",
    "gpg.turn_degrees(90)\n",
    "gpg.drive_inches(35)\n",
    "gpg.turn_degrees(90)\n",
    "gpg.drive_inches(15)\n",
    "gpg.turn_degrees(-90)\n",
    "gpg.drive_inches(20)\n",
    "gpg.turn_degrees(-90)\n",
    "gpg.drive_inches(15)\n",
    "gpg.turn_degrees(90)\n",
    "gpg.drive_inches(20)\n",
    "gpg.turn_degrees(-90)\n",
    "gpg.drive_inches(15)"
   ]
  }
 ],
 "metadata": {
  "kernelspec": {
   "display_name": "Python 3",
   "language": "python",
   "name": "python3"
  },
  "language_info": {
   "codemirror_mode": {
    "name": "ipython",
    "version": 3
   },
   "file_extension": ".py",
   "mimetype": "text/x-python",
   "name": "python",
   "nbconvert_exporter": "python",
   "pygments_lexer": "ipython3",
   "version": "3.8.8"
  }
 },
 "nbformat": 4,
 "nbformat_minor": 2
}
